{
 "cells": [
  {
   "cell_type": "code",
   "execution_count": 1,
   "metadata": {},
   "outputs": [],
   "source": [
    "#S03 T03: Estructura de control\n",
    "#Descripció\n",
    "#Comencem a familiaritzar-nos amb les estructures de control de Python"
   ]
  },
  {
   "cell_type": "code",
   "execution_count": 3,
   "metadata": {},
   "outputs": [],
   "source": [
    "#Nivell 1"
   ]
  },
  {
   "cell_type": "code",
   "execution_count": 16,
   "metadata": {},
   "outputs": [
    {
     "name": "stdout",
     "output_type": "stream",
     "text": [
      "Aprovat\n",
      "Suspès\n",
      "Excel·lent\n",
      "Notable\n"
     ]
    }
   ],
   "source": [
    "#Exercici 1\n",
    "#L'exercici consisteix a crear un programa que et classifiqui una variable numèrica en funció de l’escala Suspès/Aprovat/Notable/Excel·lent.\n",
    "\n",
    "def classificar (num):\n",
    "    if num < 5:\n",
    "        print(\"Suspès\")\n",
    "    elif num >= 5 and num < 7:\n",
    "        print(\"Aprovat\")\n",
    "    elif num > 7 and num < 9:\n",
    "        print(\"Notable\")\n",
    "    else:\n",
    "        print(\"Excel·lent\")\n",
    "        \n",
    "classificar(6)\n",
    "classificar(2)\n",
    "classificar(9)\n",
    "classificar(8)\n",
    "    "
   ]
  },
  {
   "cell_type": "code",
   "execution_count": 127,
   "metadata": {},
   "outputs": [
    {
     "name": "stdout",
     "output_type": "stream",
     "text": [
      "Escriu número 1:10\n",
      "Escriu número 2:8\n",
      "El número 10 és més gran.\n"
     ]
    }
   ],
   "source": [
    "#Exercici 2\n",
    "#Utilitzant el següent tutorial Programiz: Python Input, Output and Import crea un programa que et pregunti dos números. T’ha de mostrar un missatge dient si el primer és més gran, el segon és més gran o són iguals.\n",
    "\n",
    "num1 = int(input(\"Escriu número 1:\"))\n",
    "num2 = int(input(\"Escriu número 2:\"))\n",
    "    \n",
    "if (num1 > num2):\n",
    "    print(\"El número\", num1,\"és més gran.\")\n",
    "elif (num2 > num1):\n",
    "    print(\"El número\", num2,\"és més gran.\")\n",
    "else:\n",
    "    print(\"El número\",num1,\"i el número\",num2,\"són el mateix número.\")    \n"
   ]
  },
  {
   "cell_type": "code",
   "execution_count": 130,
   "metadata": {},
   "outputs": [
    {
     "name": "stdout",
     "output_type": "stream",
     "text": [
      "Escriu el teu nom:Xavier\n",
      "Escriu un número:5\n",
      "Xavier\n",
      "Xavier\n",
      "Xavier\n",
      "Xavier\n",
      "Xavier\n"
     ]
    }
   ],
   "source": [
    "#Exercici 3\n",
    "#Crea un programa que et pregunti el teu nom, i et demani un número. Si el número és 0, hauria de mostrar un missatge d’error. En cas contrari, hauria de mostrar el nom repetit tants cops com indiqui el número. Per exemple, “Joan Joan Joan”.\n",
    "   \n",
    "nom = input(\"Escriu el teu nom:\")\n",
    "num = int(input(\"Escriu un número:\"))\n",
    "\n",
    "if num == 0:\n",
    "    print(\"Error. No escriu\", nom, \"cap vegada.\")\n",
    "else:\n",
    "    i = 0\n",
    "    while i < num:\n",
    "        print(nom)\n",
    "        i += 1\n",
    "        \n"
   ]
  },
  {
   "cell_type": "code",
   "execution_count": 122,
   "metadata": {},
   "outputs": [
    {
     "name": "stdout",
     "output_type": "stream",
     "text": [
      "3\n",
      "3\n",
      "2\n",
      "1\n",
      "La llista és simètrica i té 9 elements.\n"
     ]
    }
   ],
   "source": [
    "#Exercici 4\n",
    "#Crea un programa que donada una llista qualsevol, et digui si es simètrica o no. Si ho és, que et digui quants elements té.\n",
    "\n",
    "def es_simetrica(llista):\n",
    "    cont = 0\n",
    "    valor = True\n",
    "    while (cont < (int(len(llista)/2)) or valor == False):\n",
    "        print(llista[len(llista)-(cont+1)])\n",
    "        if llista[cont] != llista[len(llista)-(cont+1)]:\n",
    "            valor = False\n",
    "        cont += 1\n",
    "        \n",
    "    if (valor == False):\n",
    "        print (\"La llista no és simètrica.\")\n",
    "    else:\n",
    "        print(\"La llista és simètrica i té\",len(llista),\"elements.\")\n",
    "\n",
    "    \n",
    "llista_num = [3,3,2,1,2,1,2,3,3]\n",
    "es_simetrica(llista_num)\n"
   ]
  },
  {
   "cell_type": "code",
   "execution_count": 123,
   "metadata": {},
   "outputs": [
    {
     "name": "stdout",
     "output_type": "stream",
     "text": [
      "El número 2 de la llista coincideix amb la posició 2\n",
      "El número 6 de la llista coincideix amb la posició 6\n"
     ]
    }
   ],
   "source": [
    "#Exercici 5\n",
    "#Crea un programa que donada una llista, et digui quants números coincideixen amb la seva posició. Per exemple [3,4,2,0,2,3,6] el 2 i el 6 coincideixen.\n",
    "def coincideix (llista):\n",
    "    pos = 0\n",
    "    for i in llista:\n",
    "        if i == pos:\n",
    "            print (\"El número\",i,\"de la llista coincideix amb la posició\", pos)\n",
    "        pos += 1\n",
    "            \n",
    "llista_num = [3,4,2,0,2,3,6]\n",
    "coincideix(llista_num)\n"
   ]
  },
  {
   "cell_type": "code",
   "execution_count": null,
   "metadata": {},
   "outputs": [],
   "source": []
  },
  {
   "cell_type": "code",
   "execution_count": null,
   "metadata": {},
   "outputs": [],
   "source": []
  },
  {
   "cell_type": "code",
   "execution_count": null,
   "metadata": {},
   "outputs": [],
   "source": []
  }
 ],
 "metadata": {
  "kernelspec": {
   "display_name": "Python 3",
   "language": "python",
   "name": "python3"
  },
  "language_info": {
   "codemirror_mode": {
    "name": "ipython",
    "version": 3
   },
   "file_extension": ".py",
   "mimetype": "text/x-python",
   "name": "python",
   "nbconvert_exporter": "python",
   "pygments_lexer": "ipython3",
   "version": "3.8.3"
  }
 },
 "nbformat": 4,
 "nbformat_minor": 4
}
